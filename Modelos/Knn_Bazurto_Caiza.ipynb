{
  "nbformat": 4,
  "nbformat_minor": 0,
  "metadata": {
    "colab": {
      "provenance": []
    },
    "kernelspec": {
      "name": "python3",
      "display_name": "Python 3"
    },
    "language_info": {
      "name": "python"
    }
  },
  "cells": [
    {
      "cell_type": "markdown",
      "source": [
        "1. Importar las librerías"
      ],
      "metadata": {
        "id": "7wbweO4CSb5F"
      }
    },
    {
      "cell_type": "code",
      "execution_count": 3,
      "metadata": {
        "id": "QjLgSZwZKOwy"
      },
      "outputs": [],
      "source": [
        "import pandas as pd\n",
        "from sklearn.model_selection import train_test_split\n",
        "from sklearn.preprocessing import OneHotEncoder, StandardScaler\n",
        "from sklearn.neighbors import KNeighborsClassifier\n",
        "from sklearn.metrics import confusion_matrix, accuracy_score, classification_report\n",
        "import matplotlib.pyplot as plt\n",
        "import seaborn as sns"
      ]
    },
    {
      "cell_type": "markdown",
      "source": [
        "2. Cargar los datos"
      ],
      "metadata": {
        "id": "RLTtvX6hSe1R"
      }
    },
    {
      "cell_type": "code",
      "source": [
        "pd.set_option('display.max_rows', None)\n",
        "pd.set_option('display.max_columns', None)\n",
        "\n",
        "\n",
        "df = pd.read_csv('/content/data_evaluacion.csv')\n",
        "\n",
        "\n",
        "print(df.head().to_markdown(index=False, numalign=\"left\", stralign=\"left\"))\n",
        "\n",
        "print(df.info())"
      ],
      "metadata": {
        "colab": {
          "base_uri": "https://localhost:8080/"
        },
        "id": "xZEQydWRKc9r",
        "outputId": "c9f1111e-290b-46f3-d97b-7096edb31bff"
      },
      "execution_count": 4,
      "outputs": [
        {
          "output_type": "stream",
          "name": "stdout",
          "text": [
            "| 39   | State-gov        | 77516   | Bachelors   | 13   | Never-married      | Adm-clerical      | Not-in-family   | White   | Male   | 2174   | 0   | 40   | United-States   | <=50K   |\n",
            "|:-----|:-----------------|:--------|:------------|:-----|:-------------------|:------------------|:----------------|:--------|:-------|:-------|:----|:-----|:----------------|:--------|\n",
            "| 50   | Self-emp-not-inc | 83311   | Bachelors   | 13   | Married-civ-spouse | Exec-managerial   | Husband         | White   | Male   | 0      | 0   | 13   | United-States   | <=50K   |\n",
            "| 38   | Private          | 215646  | HS-grad     | 9    | Divorced           | Handlers-cleaners | Not-in-family   | White   | Male   | 0      | 0   | 40   | United-States   | <=50K   |\n",
            "| 53   | Private          | 234721  | 11th        | 7    | Married-civ-spouse | Handlers-cleaners | Husband         | Black   | Male   | 0      | 0   | 40   | United-States   | <=50K   |\n",
            "| 28   | Private          | 338409  | Bachelors   | 13   | Married-civ-spouse | Prof-specialty    | Wife            | Black   | Female | 0      | 0   | 40   | Cuba            | <=50K   |\n",
            "| 37   | Private          | 284582  | Masters     | 14   | Married-civ-spouse | Exec-managerial   | Wife            | White   | Female | 0      | 0   | 40   | United-States   | <=50K   |\n",
            "<class 'pandas.core.frame.DataFrame'>\n",
            "RangeIndex: 48841 entries, 0 to 48840\n",
            "Data columns (total 15 columns):\n",
            " #   Column         Non-Null Count  Dtype \n",
            "---  ------         --------------  ----- \n",
            " 0   39             48841 non-null  int64 \n",
            " 1   State-gov      48841 non-null  object\n",
            " 2   77516          48841 non-null  int64 \n",
            " 3   Bachelors      48841 non-null  object\n",
            " 4   13             48841 non-null  int64 \n",
            " 5   Never-married  48841 non-null  object\n",
            " 6   Adm-clerical   48841 non-null  object\n",
            " 7   Not-in-family  48841 non-null  object\n",
            " 8   White          48841 non-null  object\n",
            " 9   Male           48841 non-null  object\n",
            " 10  2174           48841 non-null  int64 \n",
            " 11  0              48841 non-null  int64 \n",
            " 12  40             48841 non-null  int64 \n",
            " 13  United-States  48841 non-null  object\n",
            " 14  <=50K          48841 non-null  object\n",
            "dtypes: int64(6), object(9)\n",
            "memory usage: 5.6+ MB\n",
            "None\n"
          ]
        }
      ]
    },
    {
      "cell_type": "markdown",
      "source": [
        "Renombrar las columnas para que sean más claras"
      ],
      "metadata": {
        "id": "TS3Shoi5SpQ8"
      }
    },
    {
      "cell_type": "code",
      "source": [
        "df.columns = [\n",
        "    'age', 'workclass', 'fnlwgt', 'education', 'education_num', 'marital_status',\n",
        "    'occupation', 'relationship', 'race', 'sex', 'capital_gain', 'capital_loss',\n",
        "    'hours_per_week', 'native_country', 'income'\n",
        "]\n",
        "print(df.info())"
      ],
      "metadata": {
        "colab": {
          "base_uri": "https://localhost:8080/"
        },
        "id": "YDyB79HFRDWb",
        "outputId": "5006eb3c-81ec-43ae-e683-2014515a7fe6"
      },
      "execution_count": 5,
      "outputs": [
        {
          "output_type": "stream",
          "name": "stdout",
          "text": [
            "<class 'pandas.core.frame.DataFrame'>\n",
            "RangeIndex: 48841 entries, 0 to 48840\n",
            "Data columns (total 15 columns):\n",
            " #   Column          Non-Null Count  Dtype \n",
            "---  ------          --------------  ----- \n",
            " 0   age             48841 non-null  int64 \n",
            " 1   workclass       48841 non-null  object\n",
            " 2   fnlwgt          48841 non-null  int64 \n",
            " 3   education       48841 non-null  object\n",
            " 4   education_num   48841 non-null  int64 \n",
            " 5   marital_status  48841 non-null  object\n",
            " 6   occupation      48841 non-null  object\n",
            " 7   relationship    48841 non-null  object\n",
            " 8   race            48841 non-null  object\n",
            " 9   sex             48841 non-null  object\n",
            " 10  capital_gain    48841 non-null  int64 \n",
            " 11  capital_loss    48841 non-null  int64 \n",
            " 12  hours_per_week  48841 non-null  int64 \n",
            " 13  native_country  48841 non-null  object\n",
            " 14  income          48841 non-null  object\n",
            "dtypes: int64(6), object(9)\n",
            "memory usage: 5.6+ MB\n",
            "None\n"
          ]
        }
      ]
    },
    {
      "cell_type": "markdown",
      "source": [
        "4. Dividir los datos en conjuntos de entrenamiento y prueba"
      ],
      "metadata": {
        "id": "C-RV2MNaSmOf"
      }
    },
    {
      "cell_type": "code",
      "source": [
        "\n",
        "\n",
        "# Separa las características (X) y la variable objetivo (y)\n",
        "X = df.drop('income', axis=1)\n",
        "y = df['income']\n",
        "\n",
        "# Convertir la variable objetivo a binario\n",
        "y = y.apply(lambda x: 1 if x == '>50K' else 0)\n",
        "\n",
        "# Identifica las columnas categóricas y numéricas\n",
        "X_categorical = X.select_dtypes(include=['object'])\n",
        "X_numeric = X.select_dtypes(include=['int64'])\n",
        "\n",
        "# Convierte las columnas booleanas a valores numéricos\n",
        "for col in X_categorical:\n",
        "    if X_categorical[col].isin([True, False]).all():\n",
        "        X_categorical[col] = X_categorical[col].astype(int)\n",
        "\n",
        "\n",
        "\n"
      ],
      "metadata": {
        "id": "c-vhqziyKsbu"
      },
      "execution_count": 6,
      "outputs": []
    },
    {
      "cell_type": "markdown",
      "source": [
        "5. Normalización"
      ],
      "metadata": {
        "id": "Kp3c9agbSttT"
      }
    },
    {
      "cell_type": "code",
      "source": [
        "# Aplica one-hot encoding a las variables categóricas\n",
        "encoder = OneHotEncoder(handle_unknown='ignore', sparse=False)\n",
        "X_encoded = encoder.fit_transform(X_categorical)\n",
        "\n",
        "# Estandariza las variables numéricas\n",
        "scaler = StandardScaler()\n",
        "X_numeric_scaled = scaler.fit_transform(X_numeric)\n",
        "\n",
        "# Combina las variables codificadas y numéricas\n",
        "X_processed = pd.concat([pd.DataFrame(X_encoded, index=X.index), pd.DataFrame(X_numeric_scaled, index=X.index)], axis=1)\n",
        "\n"
      ],
      "metadata": {
        "colab": {
          "base_uri": "https://localhost:8080/"
        },
        "id": "zk7WlqwpRYfP",
        "outputId": "c97e47fd-4d98-44e9-ad05-460bbd26f990"
      },
      "execution_count": 7,
      "outputs": [
        {
          "output_type": "stream",
          "name": "stderr",
          "text": [
            "/usr/local/lib/python3.10/dist-packages/sklearn/preprocessing/_encoders.py:868: FutureWarning: `sparse` was renamed to `sparse_output` in version 1.2 and will be removed in 1.4. `sparse_output` is ignored unless you leave `sparse` to its default value.\n",
            "  warnings.warn(\n"
          ]
        }
      ]
    },
    {
      "cell_type": "code",
      "source": [
        "# Divide los datos en conjuntos de entrenamiento y prueba\n",
        "X_train, X_test, y_train, y_test = train_test_split(X_processed, y, test_size=0.3, random_state=42, stratify=y)\n",
        "\n",
        "# Encontrar el mejor número de vecinos usando la gráfica del codo\n",
        "error_rate = []\n",
        "for i in range(1, 41):\n",
        "    knn = KNeighborsClassifier(n_neighbors=i)\n",
        "    knn.fit(X_train, y_train)\n",
        "    y_pred_i = knn.predict(X_test)\n",
        "    error_rate.append(1 - accuracy_score(y_test, y_pred_i))"
      ],
      "metadata": {
        "id": "gsFAnUPZRUoE"
      },
      "execution_count": 8,
      "outputs": []
    },
    {
      "cell_type": "code",
      "source": [
        "plt.figure(figsize=(10, 6))\n",
        "plt.plot(range(1, 41), error_rate, color='blue', linestyle='dashed', marker='o', markerfacecolor='red', markersize=10)\n",
        "plt.title('Gráfica del Codo para el Mejor k')\n",
        "plt.xlabel('Número de Vecinos (k)')\n",
        "plt.ylabel('Tasa de Error')\n",
        "plt.show()"
      ],
      "metadata": {
        "colab": {
          "base_uri": "https://localhost:8080/",
          "height": 565
        },
        "id": "RYwLZQAigkLS",
        "outputId": "c018a159-f876-42ca-8ba4-7e7d9323ae02"
      },
      "execution_count": 9,
      "outputs": [
        {
          "output_type": "display_data",
          "data": {
            "text/plain": [
              "<Figure size 1000x600 with 1 Axes>"
            ],
            "image/png": "[encoded data removed]"
          },
          "metadata": {}
        }
      ]
    },
    {
      "cell_type": "markdown",
      "source": [
        " La gráfica muestra que la tasa de error disminuye rápidamente al principio a medida que aumenta k, y luego se estabiliza alrededor de k=10. Esto sugiere que k=10 podría ser un buen valor para el modelo, ya que ofrece un equilibrio entre baja tasa de error"
      ],
      "metadata": {
        "id": "dW0Q1v3-iums"
      }
    },
    {
      "cell_type": "code",
      "source": [
        "# Entrenar el modelo k-NN con el mejor k\n",
        "best_k = error_rate.index(min(error_rate)) + 1\n",
        "knn = KNeighborsClassifier(n_neighbors= 10)\n",
        "knn.fit(X_train, y_train)\n",
        "y_pred_knn = knn.predict(X_test)"
      ],
      "metadata": {
        "id": "qUfemDMagkoK"
      },
      "execution_count": 10,
      "outputs": []
    },
    {
      "cell_type": "markdown",
      "source": [
        "6. Gráficas"
      ],
      "metadata": {
        "id": "fFgIaqc2S0lo"
      }
    },
    {
      "cell_type": "code",
      "source": [
        "# Gráfica de la Matriz de Confusión\n",
        "conf_matrix = confusion_matrix(y_test, y_pred_knn)\n",
        "plt.figure(figsize=(8, 6))\n",
        "sns.heatmap(conf_matrix, annot=True, fmt='d', cmap='Blues', xticklabels=['<=50K', '>50K'], yticklabels=['<=50K', '>50K'])\n",
        "plt.ylabel('Actual')\n",
        "plt.xlabel('Predicho')\n",
        "plt.title('Matriz de Confusión')\n",
        "plt.show()"
      ],
      "metadata": {
        "colab": {
          "base_uri": "https://localhost:8080/",
          "height": 564
        },
        "id": "0xKsMofJQ55Q",
        "outputId": "5ad7678d-fe2d-4e83-98a6-ca3ef71dec10"
      },
      "execution_count": 11,
      "outputs": [
        {
          "output_type": "display_data",
          "data": {
            "text/plain": [
              "<Figure size 800x600 with 2 Axes>"
            ],
            "image/png": "[encoded data removed]"
          },
          "metadata": {}
        }
      ]
    },
    {
      "cell_type": "markdown",
      "source": [
        "7. Resultados"
      ],
      "metadata": {
        "id": "IKbPRFrKS51i"
      }
    },
    {
      "cell_type": "code",
      "source": [
        "print(f\"Mejor k seleccionado: {10}\")\n",
        "print(\"k-NN:\")\n",
        "print(\"Matriz de Confusión:\")\n",
        "print(confusion_matrix(y_test, y_pred_knn))\n",
        "print(\"Precisión:\", accuracy_score(y_test, y_pred_knn))\n",
        "print(\"\\n\")\n",
        "print(\"Informe de Clasificación:\")\n",
        "print(classification_report(y_test, y_pred_knn))"
      ],
      "metadata": {
        "colab": {
          "base_uri": "https://localhost:8080/"
        },
        "id": "wffZ-39zVYWY",
        "outputId": "66f7a575-117a-43d6-df0a-c68be3de907b"
      },
      "execution_count": 12,
      "outputs": [
        {
          "output_type": "stream",
          "name": "stdout",
          "text": [
            "Mejor k seleccionado: 10\n",
            "k-NN:\n",
            "Matriz de Confusión:\n",
            "[[10388   759]\n",
            " [ 1596  1910]]\n",
            "Precisión: 0.8392820582815805\n",
            "\n",
            "\n",
            "Informe de Clasificación:\n",
            "              precision    recall  f1-score   support\n",
            "\n",
            "           0       0.87      0.93      0.90     11147\n",
            "           1       0.72      0.54      0.62      3506\n",
            "\n",
            "    accuracy                           0.84     14653\n",
            "   macro avg       0.79      0.74      0.76     14653\n",
            "weighted avg       0.83      0.84      0.83     14653\n",
            "\n"
          ]
        }
      ]
    },
    {
      "cell_type": "markdown",
      "source": [],
      "metadata": {
        "id": "qjwPP2KXVVm5"
      }
    },
    {
      "cell_type": "code",
      "source": [
        "# Evaluar el rendimiento en el conjunto de entrenamiento\n",
        "y_train_pred_knn = knn.predict(X_train)\n",
        "train_accuracy_knn = accuracy_score(y_train, y_train_pred_knn)\n",
        "\n",
        "# Evaluar el rendimiento en el conjunto de prueba\n",
        "test_accuracy_knn = accuracy_score(y_test, y_pred_knn)\n",
        "\n",
        "print(\"k-NN - Precisión en el conjunto de entrenamiento:\", train_accuracy_knn)\n",
        "print(\"k-NN - Precisión en el conjunto de prueba:\", test_accuracy_knn)\n",
        "\n",
        "# Determinar si hay overfitting o underfitting\n",
        "if train_accuracy_knn > test_accuracy_knn + 0.05:\n",
        "    print(\"El modelo k-NN está sobreajustado (overfitting).\")\n",
        "elif train_accuracy_knn < 0.7 and test_accuracy_knn < 0.7:\n",
        "    print(\"El modelo k-NN está subajustado (underfitting).\")\n",
        "else:\n",
        "    print(\"El modelo k-NN tiene un buen ajuste.\")"
      ],
      "metadata": {
        "colab": {
          "base_uri": "https://localhost:8080/"
        },
        "id": "Pu0dyGE-lChu",
        "outputId": "714b9eca-0579-41a1-c05f-13a926ab198e"
      },
      "execution_count": 13,
      "outputs": [
        {
          "output_type": "stream",
          "name": "stdout",
          "text": [
            "k-NN - Precisión en el conjunto de entrenamiento: 0.8652743652743653\n",
            "k-NN - Precisión en el conjunto de prueba: 0.8392820582815805\n",
            "El modelo k-NN tiene un buen ajuste.\n"
          ]
        }
      ]
    },
    {
      "cell_type": "markdown",
      "source": [
        "Conclusion:\n",
        "\n",
        "El modelo k-NN con k=10 presenta una precisión general del 81.8%, lo cual es un buen resultado. Sin embargo, al analizar las métricas por clase, vemos que el modelo tiene un mejor rendimiento en la clase 0 (precisión del 87%) que en la clase 1 (precisión del 67%). En caso de usar un k mayor como 32 aumenta solo 82.5% siendo irrelevante."
      ],
      "metadata": {
        "id": "xgp4LILwTA3e"
      }
    }
  ]
}