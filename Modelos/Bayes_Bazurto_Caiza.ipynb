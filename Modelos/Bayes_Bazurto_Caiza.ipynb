{
 "cells": [
  {
   "cell_type": "code",
   "execution_count": 146,
   "id": "3196555f-55e1-4479-8deb-1d02245c9e75",
   "metadata": {},
   "outputs": [],
   "source": [
    "from sklearn.model_selection import train_test_split\n",
    "from sklearn.preprocessing import LabelEncoder\n",
    "from sklearn.naive_bayes import GaussianNB\n",
    "from sklearn.metrics import classification_report, confusion_matrix, accuracy_score\n",
    "import matplotlib.pyplot as plt\n",
    "import seaborn as sns\n",
    "from sklearn.metrics import ConfusionMatrixDisplay\n",
    "from sklearn.metrics import accuracy_score, log_loss"
   ]
  },
  {
   "cell_type": "code",
   "execution_count": 127,
   "id": "a06e5128-73bd-4892-9027-4406bdd69e5a",
   "metadata": {},
   "outputs": [],
   "source": [
    "# Cargar el dataset\n",
    "file_path = 'data_evaluacion.csv'\n",
    "data = pd.read_csv(file_path)"
   ]
  },
  {
   "cell_type": "code",
   "execution_count": 128,
   "id": "cd8ddfd6-2b9f-4aa3-a281-42a389747e77",
   "metadata": {},
   "outputs": [
    {
     "name": "stdout",
     "output_type": "stream",
     "text": [
      "Datos Originales:\n",
      "   39         State-gov   77516  Bachelors  13       Never-married  \\\n",
      "0  50  Self-emp-not-inc   83311  Bachelors  13  Married-civ-spouse   \n",
      "1  38           Private  215646    HS-grad   9            Divorced   \n",
      "2  53           Private  234721       11th   7  Married-civ-spouse   \n",
      "3  28           Private  338409  Bachelors  13  Married-civ-spouse   \n",
      "4  37           Private  284582    Masters  14  Married-civ-spouse   \n",
      "\n",
      "        Adm-clerical  Not-in-family  White    Male  2174  0  40  \\\n",
      "0    Exec-managerial        Husband  White    Male     0  0  13   \n",
      "1  Handlers-cleaners  Not-in-family  White    Male     0  0  40   \n",
      "2  Handlers-cleaners        Husband  Black    Male     0  0  40   \n",
      "3     Prof-specialty           Wife  Black  Female     0  0  40   \n",
      "4    Exec-managerial           Wife  White  Female     0  0  40   \n",
      "\n",
      "   United-States  <=50K  \n",
      "0  United-States  <=50K  \n",
      "1  United-States  <=50K  \n",
      "2  United-States  <=50K  \n",
      "3           Cuba  <=50K  \n",
      "4  United-States  <=50K  \n"
     ]
    }
   ],
   "source": [
    "# Imprimir la data\n",
    "print(\"Datos Originales:\")\n",
    "print(data.head())"
   ]
  },
  {
   "cell_type": "code",
   "execution_count": 129,
   "id": "5e771ac3-e356-43a1-9ad6-c802277c1fd5",
   "metadata": {},
   "outputs": [],
   "source": [
    "# Renombrar las columnas para que sean más descriptivas\n",
    "data.columns = ['age', 'workclass', 'fnlwgt', 'education', 'education_num', 'marital_status', 'occupation', 'relationship', 'race', 'sex', 'capital_gain', 'capital_loss', 'hours_per_week', 'native_country', 'income']\n"
   ]
  },
  {
   "cell_type": "code",
   "execution_count": 130,
   "id": "56e8cf5e-15dc-4f90-aac0-f45306865dfb",
   "metadata": {},
   "outputs": [],
   "source": [
    "# Manejo de valores nulos (si hay)\n",
    "data = data.dropna()"
   ]
  },
  {
   "cell_type": "code",
   "execution_count": 131,
   "id": "db1e317a-ea5b-410b-a99b-58214be4b6fd",
   "metadata": {},
   "outputs": [],
   "source": [
    "# Codificación de variables categóricas\n",
    "le = LabelEncoder()\n",
    "for column in data.select_dtypes(include=['object']).columns:\n",
    "    data[column] = le.fit_transform(data[column])"
   ]
  },
  {
   "cell_type": "code",
   "execution_count": 132,
   "id": "92dcba2f-84f2-41a2-b8a1-d1a4eda057d4",
   "metadata": {},
   "outputs": [],
   "source": [
    "# Separación de características (X) y objetivo (y)\n",
    "X = data.drop('income', axis=1)\n",
    "y = data['income']"
   ]
  },
  {
   "cell_type": "code",
   "execution_count": 133,
   "id": "45130241-1804-4404-9b03-de0d38e3aac8",
   "metadata": {},
   "outputs": [],
   "source": [
    "# Dividir los datos en conjuntos de entrenamiento y prueba\n",
    "X_train, X_test, y_train, y_test = train_test_split(X, y, test_size=0.3, random_state=42)\n"
   ]
  },
  {
   "cell_type": "code",
   "execution_count": 134,
   "id": "8e46da92-a04c-4698-982b-36e840a11900",
   "metadata": {},
   "outputs": [
    {
     "data": {
      "text/html": [
       "<style>#sk-container-id-11 {color: black;background-color: white;}#sk-container-id-11 pre{padding: 0;}#sk-container-id-11 div.sk-toggleable {background-color: white;}#sk-container-id-11 label.sk-toggleable__label {cursor: pointer;display: block;width: 100%;margin-bottom: 0;padding: 0.3em;box-sizing: border-box;text-align: center;}#sk-container-id-11 label.sk-toggleable__label-arrow:before {content: \"▸\";float: left;margin-right: 0.25em;color: #696969;}#sk-container-id-11 label.sk-toggleable__label-arrow:hover:before {color: black;}#sk-container-id-11 div.sk-estimator:hover label.sk-toggleable__label-arrow:before {color: black;}#sk-container-id-11 div.sk-toggleable__content {max-height: 0;max-width: 0;overflow: hidden;text-align: left;background-color: #f0f8ff;}#sk-container-id-11 div.sk-toggleable__content pre {margin: 0.2em;color: black;border-radius: 0.25em;background-color: #f0f8ff;}#sk-container-id-11 input.sk-toggleable__control:checked~div.sk-toggleable__content {max-height: 200px;max-width: 100%;overflow: auto;}#sk-container-id-11 input.sk-toggleable__control:checked~label.sk-toggleable__label-arrow:before {content: \"▾\";}#sk-container-id-11 div.sk-estimator input.sk-toggleable__control:checked~label.sk-toggleable__label {background-color: #d4ebff;}#sk-container-id-11 div.sk-label input.sk-toggleable__control:checked~label.sk-toggleable__label {background-color: #d4ebff;}#sk-container-id-11 input.sk-hidden--visually {border: 0;clip: rect(1px 1px 1px 1px);clip: rect(1px, 1px, 1px, 1px);height: 1px;margin: -1px;overflow: hidden;padding: 0;position: absolute;width: 1px;}#sk-container-id-11 div.sk-estimator {font-family: monospace;background-color: #f0f8ff;border: 1px dotted black;border-radius: 0.25em;box-sizing: border-box;margin-bottom: 0.5em;}#sk-container-id-11 div.sk-estimator:hover {background-color: #d4ebff;}#sk-container-id-11 div.sk-parallel-item::after {content: \"\";width: 100%;border-bottom: 1px solid gray;flex-grow: 1;}#sk-container-id-11 div.sk-label:hover label.sk-toggleable__label {background-color: #d4ebff;}#sk-container-id-11 div.sk-serial::before {content: \"\";position: absolute;border-left: 1px solid gray;box-sizing: border-box;top: 0;bottom: 0;left: 50%;z-index: 0;}#sk-container-id-11 div.sk-serial {display: flex;flex-direction: column;align-items: center;background-color: white;padding-right: 0.2em;padding-left: 0.2em;position: relative;}#sk-container-id-11 div.sk-item {position: relative;z-index: 1;}#sk-container-id-11 div.sk-parallel {display: flex;align-items: stretch;justify-content: center;background-color: white;position: relative;}#sk-container-id-11 div.sk-item::before, #sk-container-id-11 div.sk-parallel-item::before {content: \"\";position: absolute;border-left: 1px solid gray;box-sizing: border-box;top: 0;bottom: 0;left: 50%;z-index: -1;}#sk-container-id-11 div.sk-parallel-item {display: flex;flex-direction: column;z-index: 1;position: relative;background-color: white;}#sk-container-id-11 div.sk-parallel-item:first-child::after {align-self: flex-end;width: 50%;}#sk-container-id-11 div.sk-parallel-item:last-child::after {align-self: flex-start;width: 50%;}#sk-container-id-11 div.sk-parallel-item:only-child::after {width: 0;}#sk-container-id-11 div.sk-dashed-wrapped {border: 1px dashed gray;margin: 0 0.4em 0.5em 0.4em;box-sizing: border-box;padding-bottom: 0.4em;background-color: white;}#sk-container-id-11 div.sk-label label {font-family: monospace;font-weight: bold;display: inline-block;line-height: 1.2em;}#sk-container-id-11 div.sk-label-container {text-align: center;}#sk-container-id-11 div.sk-container {/* jupyter's `normalize.less` sets `[hidden] { display: none; }` but bootstrap.min.css set `[hidden] { display: none !important; }` so we also need the `!important` here to be able to override the default hidden behavior on the sphinx rendered scikit-learn.org. See: https://github.com/scikit-learn/scikit-learn/issues/21755 */display: inline-block !important;position: relative;}#sk-container-id-11 div.sk-text-repr-fallback {display: none;}</style><div id=\"sk-container-id-11\" class=\"sk-top-container\"><div class=\"sk-text-repr-fallback\"><pre>GaussianNB()</pre><b>In a Jupyter environment, please rerun this cell to show the HTML representation or trust the notebook. <br />On GitHub, the HTML representation is unable to render, please try loading this page with nbviewer.org.</b></div><div class=\"sk-container\" hidden><div class=\"sk-item\"><div class=\"sk-estimator sk-toggleable\"><input class=\"sk-toggleable__control sk-hidden--visually\" id=\"sk-estimator-id-11\" type=\"checkbox\" checked><label for=\"sk-estimator-id-11\" class=\"sk-toggleable__label sk-toggleable__label-arrow\">GaussianNB</label><div class=\"sk-toggleable__content\"><pre>GaussianNB()</pre></div></div></div></div></div>"
      ],
      "text/plain": [
       "GaussianNB()"
      ]
     },
     "execution_count": 134,
     "metadata": {},
     "output_type": "execute_result"
    }
   ],
   "source": [
    "# Entrenar el modelo de Naive Bayes\n",
    "nb_model = GaussianNB()\n",
    "nb_model.fit(X_train, y_train)"
   ]
  },
  {
   "cell_type": "code",
   "execution_count": 135,
   "id": "c80a074b-1b6b-4451-a5c3-3375f8ba3dbf",
   "metadata": {},
   "outputs": [],
   "source": [
    "# Evaluar el modelo\n",
    "y_pred = nb_model.predict(X_test)\n"
   ]
  },
  {
   "cell_type": "code",
   "execution_count": 144,
   "id": "ec7a52ec-376f-4bad-9380-7eed81c57448",
   "metadata": {},
   "outputs": [
    {
     "name": "stdout",
     "output_type": "stream",
     "text": [
      "Accuracy: 0.80017743806729\n",
      "Confusion Matrix:\n",
      " [[10619   547]\n",
      " [ 2381  1106]]\n",
      "Classification Report:\n",
      "               precision    recall  f1-score   support\n",
      "\n",
      "           0       0.82      0.95      0.88     11166\n",
      "           1       0.67      0.32      0.43      3487\n",
      "\n",
      "    accuracy                           0.80     14653\n",
      "   macro avg       0.74      0.63      0.65     14653\n",
      "weighted avg       0.78      0.80      0.77     14653\n",
      "\n"
     ]
    }
   ],
   "source": [
    "# Métricas de evaluación\n",
    "accuracy = accuracy_score(y_test, y_pred)\n",
    "conf_matrix = confusion_matrix(y_test, y_pred)\n",
    "class_report = classification_report(y_test, y_pred)\n",
    "\n",
    "print(\"Accuracy:\", accuracy)\n",
    "print(\"Confusion Matrix:\\n\", conf_matrix)\n",
    "print(\"Classification Report:\\n\", class_report)"
   ]
  },
  {
   "cell_type": "code",
   "execution_count": 145,
   "id": "0d0a4ffa-e87f-474a-a17c-33051466a248",
   "metadata": {},
   "outputs": [
    {
     "data": {
      "image/png": "[encoded data removed]",
      "text/plain": [
       "<Figure size 640x480 with 2 Axes>"
      ]
     },
     "metadata": {},
     "output_type": "display_data"
    }
   ],
   "source": [
    "# Visualizar la matriz de confusión para Naive Bayes\n",
    "disp = ConfusionMatrixDisplay(confusion_matrix=conf_matrix, display_labels=['<=50K', '>50K'])\n",
    "disp.plot(cmap='Blues')\n",
    "plt.title('Confusion Matrix - Naive Bayes')\n",
    "plt.show()"
   ]
  },
  {
   "cell_type": "code",
   "execution_count": 147,
   "id": "86d0081d-0805-49b5-b798-911a59189863",
   "metadata": {},
   "outputs": [
    {
     "name": "stdout",
     "output_type": "stream",
     "text": [
      "Training Loss: 0.9251152058101031\n",
      "Validation Loss: 0.8712961631390395\n",
      "Training Accuracy: 0.7928805428805429\n",
      "Validation Accuracy: 0.80017743806729\n",
      "Puede que haya un underfitting.\n"
     ]
    }
   ],
   "source": [
    "# Evaluar en el conjunto de entrenamiento\n",
    "y_train_pred = nb_model.predict(X_train)\n",
    "y_train_proba = nb_model.predict_proba(X_train)\n",
    "train_accuracy = accuracy_score(y_train, y_train_pred)\n",
    "train_loss = log_loss(y_train, y_train_proba)\n",
    "\n",
    "# Evaluar en el conjunto de prueba\n",
    "y_test_pred = nb_model.predict(X_test)\n",
    "y_test_proba = nb_model.predict_proba(X_test)\n",
    "test_accuracy = accuracy_score(y_test, y_test_pred)\n",
    "test_loss = log_loss(y_test, y_test_proba)\n",
    "\n",
    "print(f'Training Loss: {train_loss}')\n",
    "print(f'Validation Loss: {test_loss}')\n",
    "print(f'Training Accuracy: {train_accuracy}')\n",
    "print(f'Validation Accuracy: {test_accuracy}')\n",
    "\n",
    "if train_loss > test_loss:\n",
    "    print(\"Puede que haya un underfitting.\")\n",
    "elif train_loss < test_loss:\n",
    "    print(\"Puede que haya un overfitting.\")\n",
    "else:\n",
    "    print(\"El modelo está bien ajustado.\")"
   ]
  },
  {
   "cell_type": "markdown",
   "id": "5c48baa8-f7be-491f-86ae-da8ec95a69fb",
   "metadata": {},
   "source": [
    "Conclusion:\n",
    "Al usar Bayes nos menciona un accuracy de 0.80 de prediccion en base a la probabilidad para conseguir un mejor entrenamiento se realizo un cambio de variables categoricas para facilitar el uso de las etiquetas a predecir por lo cual tambien nos menciona que existe underfitting por un lijero desajuste entre el entrenamiento y las pruebas que es lo que ayuda a determinar el resultado. "
   ]
  }
 ],
 "metadata": {
  "kernelspec": {
   "display_name": "Python 3 (ipykernel)",
   "language": "python",
   "name": "python3"
  },
  "language_info": {
   "codemirror_mode": {
    "name": "ipython",
    "version": 3
   },
   "file_extension": ".py",
   "mimetype": "text/x-python",
   "name": "python",
   "nbconvert_exporter": "python",
   "pygments_lexer": "ipython3",
   "version": "3.11.7"
  }
 },
 "nbformat": 4,
 "nbformat_minor": 5
}
